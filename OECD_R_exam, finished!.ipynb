{
 "cells": [
  {
   "cell_type": "markdown",
   "metadata": {},
   "source": [
    "# Exam\n",
    "\n",
    "In this exam, we will work with the \"frequently requested health data” from the OECD.\n",
    "Your task is to compute a simple “efficiency score” and make three plots. \n",
    "\n",
    "\n",
    "You will earn a higher grade if you provide nicer graphs.  \n"
   ]
  },
  {
   "cell_type": "markdown",
   "metadata": {},
   "source": [
    "Now you need to call the libaries\n",
    "\n",
    "* ggplot2\n",
    "* dplyr\n",
    "\n"
   ]
  },
  {
   "cell_type": "code",
   "execution_count": 38,
   "metadata": {
    "collapsed": false
   },
   "outputs": [],
   "source": [
    "library(ggplot2)\n",
    "library(dplyr)\n",
    "library(tidyr)"
   ]
  },
  {
   "cell_type": "markdown",
   "metadata": {},
   "source": [
    "Now you have to read the de data that we have cleaned during tutorial 3. The csv file is called oecddata.csv"
   ]
  },
  {
   "cell_type": "code",
   "execution_count": 39,
   "metadata": {
    "collapsed": true
   },
   "outputs": [],
   "source": [
    "OECD <- read.csv2(\"oecddata.csv\")"
   ]
  },
  {
   "cell_type": "markdown",
   "metadata": {},
   "source": [
    "To see how the data look like, use the command:\n",
    "\n",
    "head(oecd)\n",
    "\n",
    "With the command\n",
    "\n",
    "oecd\n",
    "\n",
    "\n",
    "You can see the dataset in total."
   ]
  },
  {
   "cell_type": "code",
   "execution_count": 40,
   "metadata": {
    "collapsed": false
   },
   "outputs": [
    {
     "data": {
      "text/html": [
       "<table>\n",
       "<thead><tr><th scope=col>X</th><th scope=col>Country</th><th scope=col>Year</th><th scope=col>Cost</th><th scope=col>LE</th></tr></thead>\n",
       "<tbody>\n",
       "\t<tr><td>1        </td><td>Australia</td><td>2005     </td><td>2842.132 </td><td>80.9     </td></tr>\n",
       "\t<tr><td>2        </td><td>Australia</td><td>2006     </td><td>3023.098 </td><td>81.1     </td></tr>\n",
       "\t<tr><td>3        </td><td>Australia</td><td>2007     </td><td>3196.226 </td><td>81.4     </td></tr>\n",
       "\t<tr><td>4        </td><td>Australia</td><td>2008     </td><td>3310.171 </td><td>81.5     </td></tr>\n",
       "\t<tr><td>5        </td><td>Australia</td><td>2009     </td><td>3564.405 </td><td>81.6     </td></tr>\n",
       "\t<tr><td>6        </td><td>Australia</td><td>2010     </td><td>3607.341 </td><td>81.8     </td></tr>\n",
       "</tbody>\n",
       "</table>\n"
      ],
      "text/latex": [
       "\\begin{tabular}{r|lllll}\n",
       " X & Country & Year & Cost & LE\\\\\n",
       "\\hline\n",
       "\t 1         & Australia & 2005      & 2842.132  & 80.9     \\\\\n",
       "\t 2         & Australia & 2006      & 3023.098  & 81.1     \\\\\n",
       "\t 3         & Australia & 2007      & 3196.226  & 81.4     \\\\\n",
       "\t 4         & Australia & 2008      & 3310.171  & 81.5     \\\\\n",
       "\t 5         & Australia & 2009      & 3564.405  & 81.6     \\\\\n",
       "\t 6         & Australia & 2010      & 3607.341  & 81.8     \\\\\n",
       "\\end{tabular}\n"
      ],
      "text/markdown": [
       "\n",
       "X | Country | Year | Cost | LE | \n",
       "|---|---|---|---|---|---|\n",
       "| 1         | Australia | 2005      | 2842.132  | 80.9      | \n",
       "| 2         | Australia | 2006      | 3023.098  | 81.1      | \n",
       "| 3         | Australia | 2007      | 3196.226  | 81.4      | \n",
       "| 4         | Australia | 2008      | 3310.171  | 81.5      | \n",
       "| 5         | Australia | 2009      | 3564.405  | 81.6      | \n",
       "| 6         | Australia | 2010      | 3607.341  | 81.8      | \n",
       "\n",
       "\n"
      ],
      "text/plain": [
       "  X Country   Year Cost     LE  \n",
       "1 1 Australia 2005 2842.132 80.9\n",
       "2 2 Australia 2006 3023.098 81.1\n",
       "3 3 Australia 2007 3196.226 81.4\n",
       "4 4 Australia 2008 3310.171 81.5\n",
       "5 5 Australia 2009 3564.405 81.6\n",
       "6 6 Australia 2010 3607.341 81.8"
      ]
     },
     "metadata": {},
     "output_type": "display_data"
    },
    {
     "name": "stdout",
     "output_type": "stream",
     "text": [
      "'data.frame':\t385 obs. of  5 variables:\n",
      " $ X      : int  1 2 3 4 5 6 7 8 9 10 ...\n",
      " $ Country: Factor w/ 35 levels \"Australia\",\"Austria\",..: 1 1 1 1 1 1 1 1 1 1 ...\n",
      " $ Year   : int  2005 2006 2007 2008 2009 2010 2011 2012 2013 2014 ...\n",
      " $ Cost   : num  2842 3023 3196 3310 3564 ...\n",
      " $ LE     : num  80.9 81.1 81.4 81.5 81.6 81.8 82 82.1 82.2 82.4 ...\n"
     ]
    }
   ],
   "source": [
    "head(OECD)\n",
    "str(OECD)"
   ]
  },
  {
   "cell_type": "markdown",
   "metadata": {},
   "source": [
    "## Graphs"
   ]
  },
  {
   "cell_type": "markdown",
   "metadata": {},
   "source": [
    "To make the graphs we need to make selections of the data. Please use \"dplyr\" (commands \"select\" and \"filter\") and the \"pipe\". The first assignment is to make a scatterplot using \"ggplot\". The graph contains data for all countries for the year 2014. Therefore make a dataframe with dplyr first, called \"graph1\" with the required data.\n",
    "Then, make a scatterplot with \"Cost\" on the x-axis and \"LE\" on the y-axis. You have to add a regression line with a shaded area for the confidence interval."
   ]
  },
  {
   "cell_type": "code",
   "execution_count": 41,
   "metadata": {
    "collapsed": false
   },
   "outputs": [
    {
     "data": {
      "text/html": [
       "<table>\n",
       "<thead><tr><th scope=col>X</th><th scope=col>Country</th><th scope=col>Year</th><th scope=col>Cost</th><th scope=col>LE</th></tr></thead>\n",
       "<tbody>\n",
       "\t<tr><td> 10            </td><td>Australia      </td><td>2014           </td><td>4206.8516      </td><td>82.4           </td></tr>\n",
       "\t<tr><td> 21            </td><td>Austria        </td><td>2014           </td><td>4895.9992      </td><td>81.6           </td></tr>\n",
       "\t<tr><td> 32            </td><td>Belgium        </td><td>2014           </td><td>4522.0450      </td><td>81.4           </td></tr>\n",
       "\t<tr><td> 54            </td><td>Chile          </td><td>2014           </td><td>1688.5233      </td><td>79.0           </td></tr>\n",
       "\t<tr><td> 65            </td><td>Czech Republic </td><td>2014           </td><td>2386.3385      </td><td>78.9           </td></tr>\n",
       "\t<tr><td> 76            </td><td>Denmark        </td><td>2014           </td><td>4857.0285      </td><td>80.8           </td></tr>\n",
       "\t<tr><td> 87            </td><td>Estonia        </td><td>2014           </td><td>1724.5100      </td><td>77.2           </td></tr>\n",
       "\t<tr><td> 98            </td><td>Finland        </td><td>2014           </td><td>3870.4000      </td><td>81.3           </td></tr>\n",
       "\t<tr><td>109            </td><td>France         </td><td>2014           </td><td>4366.9864      </td><td>82.8           </td></tr>\n",
       "\t<tr><td>120            </td><td>Germany        </td><td>2014           </td><td>5119.2146      </td><td>81.2           </td></tr>\n",
       "\t<tr><td>131            </td><td>Greece         </td><td>2014           </td><td>2220.1065      </td><td>81.5           </td></tr>\n",
       "\t<tr><td>142            </td><td>Hungary        </td><td>2014           </td><td>1796.6034      </td><td>75.9           </td></tr>\n",
       "\t<tr><td>153            </td><td>Iceland        </td><td>2014           </td><td>3896.9251      </td><td>82.9           </td></tr>\n",
       "\t<tr><td>164            </td><td>Ireland        </td><td>2014           </td><td>5001.3220      </td><td>81.4           </td></tr>\n",
       "\t<tr><td>175            </td><td>Israel         </td><td>2014           </td><td>2547.4010      </td><td>82.2           </td></tr>\n",
       "\t<tr><td>186            </td><td>Italy          </td><td>2014           </td><td>3206.8286      </td><td>83.2           </td></tr>\n",
       "\t<tr><td>197            </td><td>Japan          </td><td>2014           </td><td>4152.3727      </td><td>83.7           </td></tr>\n",
       "\t<tr><td>208            </td><td>Korea          </td><td>2014           </td><td>2361.4400      </td><td>82.2           </td></tr>\n",
       "\t<tr><td>219            </td><td>Latvia         </td><td>2014           </td><td>1295.0128      </td><td>74.3           </td></tr>\n",
       "\t<tr><td>230            </td><td>Luxembourg     </td><td>2014           </td><td>6682.2370      </td><td>82.3           </td></tr>\n",
       "\t<tr><td>241            </td><td>Mexico         </td><td>2014           </td><td>1035.3389      </td><td>74.8           </td></tr>\n",
       "\t<tr><td>252            </td><td>Netherlands    </td><td>2014           </td><td>5276.6003      </td><td>81.8           </td></tr>\n",
       "\t<tr><td>263            </td><td>New Zealand    </td><td>2014           </td><td>3537.2568      </td><td>81.6           </td></tr>\n",
       "\t<tr><td>274            </td><td>Norway         </td><td>2014           </td><td>6080.9980      </td><td>82.2           </td></tr>\n",
       "\t<tr><td>285            </td><td>Poland         </td><td>2014           </td><td>1624.8655      </td><td>77.7           </td></tr>\n",
       "\t<tr><td>296            </td><td>Portugal       </td><td>2014           </td><td>2583.8438      </td><td>81.2           </td></tr>\n",
       "\t<tr><td>307            </td><td>Slovak Republic</td><td>2014           </td><td>1970.5230      </td><td>76.9           </td></tr>\n",
       "\t<tr><td>318            </td><td>Slovenia       </td><td>2014           </td><td>2598.9066      </td><td>81.2           </td></tr>\n",
       "\t<tr><td>329            </td><td>Spain          </td><td>2014           </td><td>3053.0745      </td><td>83.3           </td></tr>\n",
       "\t<tr><td>340            </td><td>Sweden         </td><td>2014           </td><td>5065.1613      </td><td>82.3           </td></tr>\n",
       "\t<tr><td>351            </td><td>Switzerland    </td><td>2014           </td><td>6786.5657      </td><td>83.3           </td></tr>\n",
       "\t<tr><td>362            </td><td>Turkey         </td><td>2014           </td><td> 990.1908      </td><td>78.0           </td></tr>\n",
       "\t<tr><td>373            </td><td>United Kingdom </td><td>2014           </td><td>3971.3940      </td><td>81.4           </td></tr>\n",
       "\t<tr><td>384            </td><td>United States  </td><td>2014           </td><td>9024.2064      </td><td>78.8           </td></tr>\n",
       "</tbody>\n",
       "</table>\n"
      ],
      "text/latex": [
       "\\begin{tabular}{r|lllll}\n",
       " X & Country & Year & Cost & LE\\\\\n",
       "\\hline\n",
       "\t  10             & Australia       & 2014            & 4206.8516       & 82.4           \\\\\n",
       "\t  21             & Austria         & 2014            & 4895.9992       & 81.6           \\\\\n",
       "\t  32             & Belgium         & 2014            & 4522.0450       & 81.4           \\\\\n",
       "\t  54             & Chile           & 2014            & 1688.5233       & 79.0           \\\\\n",
       "\t  65             & Czech Republic  & 2014            & 2386.3385       & 78.9           \\\\\n",
       "\t  76             & Denmark         & 2014            & 4857.0285       & 80.8           \\\\\n",
       "\t  87             & Estonia         & 2014            & 1724.5100       & 77.2           \\\\\n",
       "\t  98             & Finland         & 2014            & 3870.4000       & 81.3           \\\\\n",
       "\t 109             & France          & 2014            & 4366.9864       & 82.8           \\\\\n",
       "\t 120             & Germany         & 2014            & 5119.2146       & 81.2           \\\\\n",
       "\t 131             & Greece          & 2014            & 2220.1065       & 81.5           \\\\\n",
       "\t 142             & Hungary         & 2014            & 1796.6034       & 75.9           \\\\\n",
       "\t 153             & Iceland         & 2014            & 3896.9251       & 82.9           \\\\\n",
       "\t 164             & Ireland         & 2014            & 5001.3220       & 81.4           \\\\\n",
       "\t 175             & Israel          & 2014            & 2547.4010       & 82.2           \\\\\n",
       "\t 186             & Italy           & 2014            & 3206.8286       & 83.2           \\\\\n",
       "\t 197             & Japan           & 2014            & 4152.3727       & 83.7           \\\\\n",
       "\t 208             & Korea           & 2014            & 2361.4400       & 82.2           \\\\\n",
       "\t 219             & Latvia          & 2014            & 1295.0128       & 74.3           \\\\\n",
       "\t 230             & Luxembourg      & 2014            & 6682.2370       & 82.3           \\\\\n",
       "\t 241             & Mexico          & 2014            & 1035.3389       & 74.8           \\\\\n",
       "\t 252             & Netherlands     & 2014            & 5276.6003       & 81.8           \\\\\n",
       "\t 263             & New Zealand     & 2014            & 3537.2568       & 81.6           \\\\\n",
       "\t 274             & Norway          & 2014            & 6080.9980       & 82.2           \\\\\n",
       "\t 285             & Poland          & 2014            & 1624.8655       & 77.7           \\\\\n",
       "\t 296             & Portugal        & 2014            & 2583.8438       & 81.2           \\\\\n",
       "\t 307             & Slovak Republic & 2014            & 1970.5230       & 76.9           \\\\\n",
       "\t 318             & Slovenia        & 2014            & 2598.9066       & 81.2           \\\\\n",
       "\t 329             & Spain           & 2014            & 3053.0745       & 83.3           \\\\\n",
       "\t 340             & Sweden          & 2014            & 5065.1613       & 82.3           \\\\\n",
       "\t 351             & Switzerland     & 2014            & 6786.5657       & 83.3           \\\\\n",
       "\t 362             & Turkey          & 2014            &  990.1908       & 78.0           \\\\\n",
       "\t 373             & United Kingdom  & 2014            & 3971.3940       & 81.4           \\\\\n",
       "\t 384             & United States   & 2014            & 9024.2064       & 78.8           \\\\\n",
       "\\end{tabular}\n"
      ],
      "text/markdown": [
       "\n",
       "X | Country | Year | Cost | LE | \n",
       "|---|---|---|---|---|---|---|---|---|---|---|---|---|---|---|---|---|---|---|---|---|---|---|---|---|---|---|---|---|---|---|---|---|---|\n",
       "|  10             | Australia       | 2014            | 4206.8516       | 82.4            | \n",
       "|  21             | Austria         | 2014            | 4895.9992       | 81.6            | \n",
       "|  32             | Belgium         | 2014            | 4522.0450       | 81.4            | \n",
       "|  54             | Chile           | 2014            | 1688.5233       | 79.0            | \n",
       "|  65             | Czech Republic  | 2014            | 2386.3385       | 78.9            | \n",
       "|  76             | Denmark         | 2014            | 4857.0285       | 80.8            | \n",
       "|  87             | Estonia         | 2014            | 1724.5100       | 77.2            | \n",
       "|  98             | Finland         | 2014            | 3870.4000       | 81.3            | \n",
       "| 109             | France          | 2014            | 4366.9864       | 82.8            | \n",
       "| 120             | Germany         | 2014            | 5119.2146       | 81.2            | \n",
       "| 131             | Greece          | 2014            | 2220.1065       | 81.5            | \n",
       "| 142             | Hungary         | 2014            | 1796.6034       | 75.9            | \n",
       "| 153             | Iceland         | 2014            | 3896.9251       | 82.9            | \n",
       "| 164             | Ireland         | 2014            | 5001.3220       | 81.4            | \n",
       "| 175             | Israel          | 2014            | 2547.4010       | 82.2            | \n",
       "| 186             | Italy           | 2014            | 3206.8286       | 83.2            | \n",
       "| 197             | Japan           | 2014            | 4152.3727       | 83.7            | \n",
       "| 208             | Korea           | 2014            | 2361.4400       | 82.2            | \n",
       "| 219             | Latvia          | 2014            | 1295.0128       | 74.3            | \n",
       "| 230             | Luxembourg      | 2014            | 6682.2370       | 82.3            | \n",
       "| 241             | Mexico          | 2014            | 1035.3389       | 74.8            | \n",
       "| 252             | Netherlands     | 2014            | 5276.6003       | 81.8            | \n",
       "| 263             | New Zealand     | 2014            | 3537.2568       | 81.6            | \n",
       "| 274             | Norway          | 2014            | 6080.9980       | 82.2            | \n",
       "| 285             | Poland          | 2014            | 1624.8655       | 77.7            | \n",
       "| 296             | Portugal        | 2014            | 2583.8438       | 81.2            | \n",
       "| 307             | Slovak Republic | 2014            | 1970.5230       | 76.9            | \n",
       "| 318             | Slovenia        | 2014            | 2598.9066       | 81.2            | \n",
       "| 329             | Spain           | 2014            | 3053.0745       | 83.3            | \n",
       "| 340             | Sweden          | 2014            | 5065.1613       | 82.3            | \n",
       "| 351             | Switzerland     | 2014            | 6786.5657       | 83.3            | \n",
       "| 362             | Turkey          | 2014            |  990.1908       | 78.0            | \n",
       "| 373             | United Kingdom  | 2014            | 3971.3940       | 81.4            | \n",
       "| 384             | United States   | 2014            | 9024.2064       | 78.8            | \n",
       "\n",
       "\n"
      ],
      "text/plain": [
       "   X   Country         Year Cost      LE  \n",
       "1   10 Australia       2014 4206.8516 82.4\n",
       "2   21 Austria         2014 4895.9992 81.6\n",
       "3   32 Belgium         2014 4522.0450 81.4\n",
       "4   54 Chile           2014 1688.5233 79.0\n",
       "5   65 Czech Republic  2014 2386.3385 78.9\n",
       "6   76 Denmark         2014 4857.0285 80.8\n",
       "7   87 Estonia         2014 1724.5100 77.2\n",
       "8   98 Finland         2014 3870.4000 81.3\n",
       "9  109 France          2014 4366.9864 82.8\n",
       "10 120 Germany         2014 5119.2146 81.2\n",
       "11 131 Greece          2014 2220.1065 81.5\n",
       "12 142 Hungary         2014 1796.6034 75.9\n",
       "13 153 Iceland         2014 3896.9251 82.9\n",
       "14 164 Ireland         2014 5001.3220 81.4\n",
       "15 175 Israel          2014 2547.4010 82.2\n",
       "16 186 Italy           2014 3206.8286 83.2\n",
       "17 197 Japan           2014 4152.3727 83.7\n",
       "18 208 Korea           2014 2361.4400 82.2\n",
       "19 219 Latvia          2014 1295.0128 74.3\n",
       "20 230 Luxembourg      2014 6682.2370 82.3\n",
       "21 241 Mexico          2014 1035.3389 74.8\n",
       "22 252 Netherlands     2014 5276.6003 81.8\n",
       "23 263 New Zealand     2014 3537.2568 81.6\n",
       "24 274 Norway          2014 6080.9980 82.2\n",
       "25 285 Poland          2014 1624.8655 77.7\n",
       "26 296 Portugal        2014 2583.8438 81.2\n",
       "27 307 Slovak Republic 2014 1970.5230 76.9\n",
       "28 318 Slovenia        2014 2598.9066 81.2\n",
       "29 329 Spain           2014 3053.0745 83.3\n",
       "30 340 Sweden          2014 5065.1613 82.3\n",
       "31 351 Switzerland     2014 6786.5657 83.3\n",
       "32 362 Turkey          2014  990.1908 78.0\n",
       "33 373 United Kingdom  2014 3971.3940 81.4\n",
       "34 384 United States   2014 9024.2064 78.8"
      ]
     },
     "metadata": {},
     "output_type": "display_data"
    }
   ],
   "source": [
    "graph1 <- OECD %>%\n",
    "filter(Year==2014, !is.na(LE))\n",
    "graph1"
   ]
  },
  {
   "cell_type": "code",
   "execution_count": 42,
   "metadata": {
    "collapsed": false
   },
   "outputs": [
    {
     "data": {},
     "metadata": {},
     "output_type": "display_data"
    },
    {
     "data": {
      "image/png": "[encoded data removed]",
      "text/plain": [
       "plot without title"
      ]
     },
     "metadata": {},
     "output_type": "display_data"
    }
   ],
   "source": [
    "ggplot(graph1, aes(x=Cost, y=LE)) + geom_point() + geom_smooth(method=lm) + xlab(\"Cost\") + ylab(\"LE\")"
   ]
  },
  {
   "cell_type": "markdown",
   "metadata": {},
   "source": [
    "The second assignment is to make a line graph. You will use the years 2005-2015 for 5 countries (you can choose your own countries). Make a new dataframe called graph2 with the required data. Then, make a line graph with \"Year\"  and \"Cost\" on the y-axis. There should be coloured lines per country and a legend attached. "
   ]
  },
  {
   "cell_type": "code",
   "execution_count": 43,
   "metadata": {
    "collapsed": false
   },
   "outputs": [],
   "source": [
    "graph2 <- OECD %>%\n",
    "filter(Country %in% c(\"Australia\", \"Austria\", \"Belgium\", \"United Kingdom\", \"United States\")) %>%\n",
    "select(X, Year, Country, Cost, LE)"
   ]
  },
  {
   "cell_type": "code",
   "execution_count": 44,
   "metadata": {
    "collapsed": false
   },
   "outputs": [
    {
     "data": {},
     "metadata": {},
     "output_type": "display_data"
    },
    {
     "data": {
      "image/png": "[encoded data removed]",
      "text/plain": [
       "plot without title"
      ]
     },
     "metadata": {},
     "output_type": "display_data"
    }
   ],
   "source": [
    "ggplot(graph2, aes(x = Year, y = Cost, col = Country)) + geom_line()"
   ]
  },
  {
   "cell_type": "markdown",
   "metadata": {},
   "source": [
    "## Efficiency scores\n",
    "\n",
    "The last assignment is to compute simple effiency scores. We will use the year 2014 for all countries (i.e. the dataframe \"graph1\").\n",
    "Make a new dateframe called \"eff\" (using graph1). Please use the \"pipe\" to execute to following steps:\n",
    "Select all the variables except the NA's (hint: use na.omit) and create a new column called \"Ratio\" with mutate. Ratio is defined as \"Cost/LE\" (cost per output).\n",
    "Create a new column called \"Score\" with mutate. Score is the ratio per country divided by the lowest ratio in the dataframe.\n",
    "To complete this dataframe order the dataset using \"arrange\" based on score (i.e. lowest Score first).\n",
    "\n",
    "\n",
    "Finally make a bar chart using ggplot. Countries should be on the x-axis and \"Score\" on the y-axis. \n",
    "\n",
    "\n",
    "\n",
    "You can earn extra points if you are able to order the graph based on scores (lowest first, highest last), if you are able to make the x-axis readable, make the bar of the Netherlands red and the other bars blue and/or change the name of the y-axis to \"Efficiency scores according to [your name]\" \n",
    "\n",
    "\n",
    "The figure should like this:\n",
    "\n",
    "![My Figure](eff.png)"
   ]
  },
  {
   "cell_type": "code",
   "execution_count": 45,
   "metadata": {
    "collapsed": false
   },
   "outputs": [
    {
     "data": {
      "text/html": [
       "<table>\n",
       "<thead><tr><th scope=col>X</th><th scope=col>Country</th><th scope=col>Year</th><th scope=col>Cost</th><th scope=col>LE</th></tr></thead>\n",
       "<tbody>\n",
       "\t<tr><td>10            </td><td>Australia     </td><td>2014          </td><td>4206.852      </td><td>82.4          </td></tr>\n",
       "\t<tr><td>21            </td><td>Austria       </td><td>2014          </td><td>4895.999      </td><td>81.6          </td></tr>\n",
       "\t<tr><td>32            </td><td>Belgium       </td><td>2014          </td><td>4522.045      </td><td>81.4          </td></tr>\n",
       "\t<tr><td>54            </td><td>Chile         </td><td>2014          </td><td>1688.523      </td><td>79.0          </td></tr>\n",
       "\t<tr><td>65            </td><td>Czech Republic</td><td>2014          </td><td>2386.338      </td><td>78.9          </td></tr>\n",
       "\t<tr><td>76            </td><td>Denmark       </td><td>2014          </td><td>4857.029      </td><td>80.8          </td></tr>\n",
       "</tbody>\n",
       "</table>\n"
      ],
      "text/latex": [
       "\\begin{tabular}{r|lllll}\n",
       " X & Country & Year & Cost & LE\\\\\n",
       "\\hline\n",
       "\t 10             & Australia      & 2014           & 4206.852       & 82.4          \\\\\n",
       "\t 21             & Austria        & 2014           & 4895.999       & 81.6          \\\\\n",
       "\t 32             & Belgium        & 2014           & 4522.045       & 81.4          \\\\\n",
       "\t 54             & Chile          & 2014           & 1688.523       & 79.0          \\\\\n",
       "\t 65             & Czech Republic & 2014           & 2386.338       & 78.9          \\\\\n",
       "\t 76             & Denmark        & 2014           & 4857.029       & 80.8          \\\\\n",
       "\\end{tabular}\n"
      ],
      "text/markdown": [
       "\n",
       "X | Country | Year | Cost | LE | \n",
       "|---|---|---|---|---|---|\n",
       "| 10             | Australia      | 2014           | 4206.852       | 82.4           | \n",
       "| 21             | Austria        | 2014           | 4895.999       | 81.6           | \n",
       "| 32             | Belgium        | 2014           | 4522.045       | 81.4           | \n",
       "| 54             | Chile          | 2014           | 1688.523       | 79.0           | \n",
       "| 65             | Czech Republic | 2014           | 2386.338       | 78.9           | \n",
       "| 76             | Denmark        | 2014           | 4857.029       | 80.8           | \n",
       "\n",
       "\n"
      ],
      "text/plain": [
       "  X  Country        Year Cost     LE  \n",
       "1 10 Australia      2014 4206.852 82.4\n",
       "2 21 Austria        2014 4895.999 81.6\n",
       "3 32 Belgium        2014 4522.045 81.4\n",
       "4 54 Chile          2014 1688.523 79.0\n",
       "5 65 Czech Republic 2014 2386.338 78.9\n",
       "6 76 Denmark        2014 4857.029 80.8"
      ]
     },
     "metadata": {},
     "output_type": "display_data"
    }
   ],
   "source": [
    "eff <- graph1 %>%\n",
    "na.omit()\n",
    "head(eff)"
   ]
  },
  {
   "cell_type": "code",
   "execution_count": 46,
   "metadata": {
    "collapsed": false
   },
   "outputs": [
    {
     "data": {
      "text/html": [
       "<table>\n",
       "<thead><tr><th scope=col>X</th><th scope=col>Country</th><th scope=col>Year</th><th scope=col>Ratio</th></tr></thead>\n",
       "<tbody>\n",
       "\t<tr><td>10            </td><td>Australia     </td><td>2014          </td><td>51.05402      </td></tr>\n",
       "\t<tr><td>21            </td><td>Austria       </td><td>2014          </td><td>59.99999      </td></tr>\n",
       "\t<tr><td>32            </td><td>Belgium       </td><td>2014          </td><td>55.55338      </td></tr>\n",
       "\t<tr><td>54            </td><td>Chile         </td><td>2014          </td><td>21.37371      </td></tr>\n",
       "\t<tr><td>65            </td><td>Czech Republic</td><td>2014          </td><td>30.24510      </td></tr>\n",
       "\t<tr><td>76            </td><td>Denmark       </td><td>2014          </td><td>60.11174      </td></tr>\n",
       "</tbody>\n",
       "</table>\n"
      ],
      "text/latex": [
       "\\begin{tabular}{r|llll}\n",
       " X & Country & Year & Ratio\\\\\n",
       "\\hline\n",
       "\t 10             & Australia      & 2014           & 51.05402      \\\\\n",
       "\t 21             & Austria        & 2014           & 59.99999      \\\\\n",
       "\t 32             & Belgium        & 2014           & 55.55338      \\\\\n",
       "\t 54             & Chile          & 2014           & 21.37371      \\\\\n",
       "\t 65             & Czech Republic & 2014           & 30.24510      \\\\\n",
       "\t 76             & Denmark        & 2014           & 60.11174      \\\\\n",
       "\\end{tabular}\n"
      ],
      "text/markdown": [
       "\n",
       "X | Country | Year | Ratio | \n",
       "|---|---|---|---|---|---|\n",
       "| 10             | Australia      | 2014           | 51.05402       | \n",
       "| 21             | Austria        | 2014           | 59.99999       | \n",
       "| 32             | Belgium        | 2014           | 55.55338       | \n",
       "| 54             | Chile          | 2014           | 21.37371       | \n",
       "| 65             | Czech Republic | 2014           | 30.24510       | \n",
       "| 76             | Denmark        | 2014           | 60.11174       | \n",
       "\n",
       "\n"
      ],
      "text/plain": [
       "  X  Country        Year Ratio   \n",
       "1 10 Australia      2014 51.05402\n",
       "2 21 Austria        2014 59.99999\n",
       "3 32 Belgium        2014 55.55338\n",
       "4 54 Chile          2014 21.37371\n",
       "5 65 Czech Republic 2014 30.24510\n",
       "6 76 Denmark        2014 60.11174"
      ]
     },
     "metadata": {},
     "output_type": "display_data"
    }
   ],
   "source": [
    "Ratio <- graph1 %>%\n",
    "mutate(Ratio = (Cost/LE)) %>%\n",
    "select(X, Country, Year, Ratio)\n",
    "head(Ratio)"
   ]
  },
  {
   "cell_type": "code",
   "execution_count": 47,
   "metadata": {
    "collapsed": false
   },
   "outputs": [
    {
     "data": {
      "text/html": [
       "<table>\n",
       "<thead><tr><th scope=col>X</th><th scope=col>Country</th><th scope=col>Year</th><th scope=col>Ratio</th><th scope=col>Score</th></tr></thead>\n",
       "<tbody>\n",
       "\t<tr><td>10            </td><td>Australia     </td><td>2014          </td><td>51.05402      </td><td>2.388637      </td></tr>\n",
       "\t<tr><td>21            </td><td>Austria       </td><td>2014          </td><td>59.99999      </td><td>2.807187      </td></tr>\n",
       "\t<tr><td>32            </td><td>Belgium       </td><td>2014          </td><td>55.55338      </td><td>2.599145      </td></tr>\n",
       "\t<tr><td>54            </td><td>Chile         </td><td>2014          </td><td>21.37371      </td><td>1.000000      </td></tr>\n",
       "\t<tr><td>65            </td><td>Czech Republic</td><td>2014          </td><td>30.24510      </td><td>1.415061      </td></tr>\n",
       "\t<tr><td>76            </td><td>Denmark       </td><td>2014          </td><td>60.11174      </td><td>2.812415      </td></tr>\n",
       "</tbody>\n",
       "</table>\n"
      ],
      "text/latex": [
       "\\begin{tabular}{r|lllll}\n",
       " X & Country & Year & Ratio & Score\\\\\n",
       "\\hline\n",
       "\t 10             & Australia      & 2014           & 51.05402       & 2.388637      \\\\\n",
       "\t 21             & Austria        & 2014           & 59.99999       & 2.807187      \\\\\n",
       "\t 32             & Belgium        & 2014           & 55.55338       & 2.599145      \\\\\n",
       "\t 54             & Chile          & 2014           & 21.37371       & 1.000000      \\\\\n",
       "\t 65             & Czech Republic & 2014           & 30.24510       & 1.415061      \\\\\n",
       "\t 76             & Denmark        & 2014           & 60.11174       & 2.812415      \\\\\n",
       "\\end{tabular}\n"
      ],
      "text/markdown": [
       "\n",
       "X | Country | Year | Ratio | Score | \n",
       "|---|---|---|---|---|---|\n",
       "| 10             | Australia      | 2014           | 51.05402       | 2.388637       | \n",
       "| 21             | Austria        | 2014           | 59.99999       | 2.807187       | \n",
       "| 32             | Belgium        | 2014           | 55.55338       | 2.599145       | \n",
       "| 54             | Chile          | 2014           | 21.37371       | 1.000000       | \n",
       "| 65             | Czech Republic | 2014           | 30.24510       | 1.415061       | \n",
       "| 76             | Denmark        | 2014           | 60.11174       | 2.812415       | \n",
       "\n",
       "\n"
      ],
      "text/plain": [
       "  X  Country        Year Ratio    Score   \n",
       "1 10 Australia      2014 51.05402 2.388637\n",
       "2 21 Austria        2014 59.99999 2.807187\n",
       "3 32 Belgium        2014 55.55338 2.599145\n",
       "4 54 Chile          2014 21.37371 1.000000\n",
       "5 65 Czech Republic 2014 30.24510 1.415061\n",
       "6 76 Denmark        2014 60.11174 2.812415"
      ]
     },
     "metadata": {},
     "output_type": "display_data"
    }
   ],
   "source": [
    "Score <- Ratio %>%\n",
    "mutate(Score = (Ratio/21.37371)) %>%\n",
    "select(X, Country, Year, Ratio, Score)\n",
    "head(Score)"
   ]
  },
  {
   "cell_type": "code",
   "execution_count": 53,
   "metadata": {
    "collapsed": false
   },
   "outputs": [
    {
     "data": {},
     "metadata": {},
     "output_type": "display_data"
    },
    {
     "data": {
      "image/png": "[encoded data removed]",
      "text/plain": [
       "plot without title"
      ]
     },
     "metadata": {},
     "output_type": "display_data"
    }
   ],
   "source": [
    "ggplot(Score, aes(x = reorder(Country, Score), y = Score, fill = Country)) + geom_bar(stat = \"identity\") + \n",
    "scale_x_discrete(\"Countries\") + \n",
    "    scale_y_continuous(\"Efficiency scores according to Annelotte Vroon\") +\n",
    "theme(axis.text.x = element_text(angle =90, hjust = 1 ))"
   ]
  },
  {
   "cell_type": "markdown",
   "metadata": {
    "collapsed": true
   },
   "source": [
    "I know that I should make the bar of The Netherlands red and the others blue but I wasn't able to do that."
   ]
  },
  {
   "cell_type": "markdown",
   "metadata": {},
   "source": [
    "I made this assignment through the help of (mostly) the ggplot2 Notebook, the excercises we made in class, the help of other students and the internet. "
   ]
  }
 ],
 "metadata": {
  "anaconda-cloud": {},
  "kernelspec": {
   "display_name": "R",
   "language": "R",
   "name": "ir"
  },
  "language_info": {
   "codemirror_mode": "r",
   "file_extension": ".r",
   "mimetype": "text/x-r-source",
   "name": "R",
   "pygments_lexer": "r",
   "version": "3.3.2"
  }
 },
 "nbformat": 4,
 "nbformat_minor": 1
}
